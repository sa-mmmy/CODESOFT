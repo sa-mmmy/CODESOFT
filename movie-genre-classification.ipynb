{
 "cells": [
  {
   "cell_type": "code",
   "execution_count": 1,
   "id": "9a8e164c",
   "metadata": {
    "_cell_guid": "b1076dfc-b9ad-4769-8c92-a6c4dae69d19",
    "_uuid": "8f2839f25d086af736a60e9eeb907d3b93b6e0e5",
    "execution": {
     "iopub.execute_input": "2024-08-07T14:31:07.192650Z",
     "iopub.status.busy": "2024-08-07T14:31:07.192293Z",
     "iopub.status.idle": "2024-08-07T14:31:08.002089Z",
     "shell.execute_reply": "2024-08-07T14:31:08.000515Z"
    },
    "papermill": {
     "duration": 0.821379,
     "end_time": "2024-08-07T14:31:08.004556",
     "exception": false,
     "start_time": "2024-08-07T14:31:07.183177",
     "status": "completed"
    },
    "tags": []
   },
   "outputs": [
    {
     "name": "stdout",
     "output_type": "stream",
     "text": [
      "/kaggle/input/genre-classification-dataset-imdb/Genre Classification Dataset/description.txt\n",
      "/kaggle/input/genre-classification-dataset-imdb/Genre Classification Dataset/test_data_solution.txt\n",
      "/kaggle/input/genre-classification-dataset-imdb/Genre Classification Dataset/test_data.txt\n",
      "/kaggle/input/genre-classification-dataset-imdb/Genre Classification Dataset/train_data.txt\n"
     ]
    }
   ],
   "source": [
    "# This Python 3 environment comes with many helpful analytics libraries installed\n",
    "# It is defined by the kaggle/python Docker image: https://github.com/kaggle/docker-python\n",
    "# For example, here's several helpful packages to load\n",
    "\n",
    "import numpy as np # linear algebra\n",
    "import pandas as pd # data processing, CSV file I/O (e.g. pd.read_csv)\n",
    "\n",
    "# Input data files are available in the read-only \"../input/\" directory\n",
    "# For example, running this (by clicking run or pressing Shift+Enter) will list all files under the input directory\n",
    "\n",
    "import os\n",
    "for dirname, _, filenames in os.walk('/kaggle/input'):\n",
    "    for filename in filenames:\n",
    "        print(os.path.join(dirname, filename))\n",
    "\n",
    "# You can write up to 20GB to the current directory (/kaggle/working/) that gets preserved as output when you create a version using \"Save & Run All\" \n",
    "# You can also write temporary files to /kaggle/temp/, but they won't be saved outside of the current session"
   ]
  },
  {
   "cell_type": "code",
   "execution_count": 2,
   "id": "7b67b517",
   "metadata": {
    "execution": {
     "iopub.execute_input": "2024-08-07T14:31:08.021555Z",
     "iopub.status.busy": "2024-08-07T14:31:08.020715Z",
     "iopub.status.idle": "2024-08-07T14:31:09.914476Z",
     "shell.execute_reply": "2024-08-07T14:31:09.913280Z"
    },
    "papermill": {
     "duration": 1.904801,
     "end_time": "2024-08-07T14:31:09.917018",
     "exception": false,
     "start_time": "2024-08-07T14:31:08.012217",
     "status": "completed"
    },
    "tags": []
   },
   "outputs": [],
   "source": [
    "import pandas as pd\n",
    "import re\n",
    "import nltk\n",
    "from nltk.corpus import stopwords\n",
    "from sklearn.feature_extraction.text import TfidfVectorizer\n",
    "from sklearn.preprocessing import LabelEncoder\n",
    "from sklearn.linear_model import LogisticRegression\n",
    "from sklearn.naive_bayes import MultinomialNB\n",
    "from sklearn.ensemble import RandomForestClassifier\n",
    "from sklearn.metrics import accuracy_score, classification_report\n"
   ]
  },
  {
   "cell_type": "code",
   "execution_count": 3,
   "id": "df5ca9d0",
   "metadata": {
    "execution": {
     "iopub.execute_input": "2024-08-07T14:31:09.933969Z",
     "iopub.status.busy": "2024-08-07T14:31:09.933172Z",
     "iopub.status.idle": "2024-08-07T14:31:10.150058Z",
     "shell.execute_reply": "2024-08-07T14:31:10.148796Z"
    },
    "papermill": {
     "duration": 0.227538,
     "end_time": "2024-08-07T14:31:10.152109",
     "exception": false,
     "start_time": "2024-08-07T14:31:09.924571",
     "status": "completed"
    },
    "tags": []
   },
   "outputs": [
    {
     "name": "stdout",
     "output_type": "stream",
     "text": [
      "[nltk_data] Downloading package stopwords to /usr/share/nltk_data...\n",
      "[nltk_data]   Package stopwords is already up-to-date!\n"
     ]
    },
    {
     "data": {
      "text/plain": [
       "True"
      ]
     },
     "execution_count": 3,
     "metadata": {},
     "output_type": "execute_result"
    }
   ],
   "source": [
    "# Download stopwords\n",
    "nltk.download('stopwords')"
   ]
  },
  {
   "cell_type": "code",
   "execution_count": 4,
   "id": "fc1d6ec5",
   "metadata": {
    "execution": {
     "iopub.execute_input": "2024-08-07T14:31:10.168508Z",
     "iopub.status.busy": "2024-08-07T14:31:10.168136Z",
     "iopub.status.idle": "2024-08-07T14:31:11.096929Z",
     "shell.execute_reply": "2024-08-07T14:31:11.095921Z"
    },
    "papermill": {
     "duration": 0.939504,
     "end_time": "2024-08-07T14:31:11.099118",
     "exception": false,
     "start_time": "2024-08-07T14:31:10.159614",
     "status": "completed"
    },
    "tags": []
   },
   "outputs": [
    {
     "data": {
      "text/html": [
       "<div>\n",
       "<style scoped>\n",
       "    .dataframe tbody tr th:only-of-type {\n",
       "        vertical-align: middle;\n",
       "    }\n",
       "\n",
       "    .dataframe tbody tr th {\n",
       "        vertical-align: top;\n",
       "    }\n",
       "\n",
       "    .dataframe thead th {\n",
       "        text-align: right;\n",
       "    }\n",
       "</style>\n",
       "<table border=\"1\" class=\"dataframe\">\n",
       "  <thead>\n",
       "    <tr style=\"text-align: right;\">\n",
       "      <th></th>\n",
       "      <th>id</th>\n",
       "      <th>title</th>\n",
       "      <th>genre</th>\n",
       "      <th>plot</th>\n",
       "    </tr>\n",
       "  </thead>\n",
       "  <tbody>\n",
       "    <tr>\n",
       "      <th>0</th>\n",
       "      <td>1</td>\n",
       "      <td>Oscar et la dame rose (2009)</td>\n",
       "      <td>drama</td>\n",
       "      <td>Listening in to a conversation between his doc...</td>\n",
       "    </tr>\n",
       "    <tr>\n",
       "      <th>1</th>\n",
       "      <td>2</td>\n",
       "      <td>Cupid (1997)</td>\n",
       "      <td>thriller</td>\n",
       "      <td>A brother and sister with a past incestuous re...</td>\n",
       "    </tr>\n",
       "    <tr>\n",
       "      <th>2</th>\n",
       "      <td>3</td>\n",
       "      <td>Young, Wild and Wonderful (1980)</td>\n",
       "      <td>adult</td>\n",
       "      <td>As the bus empties the students for their fiel...</td>\n",
       "    </tr>\n",
       "    <tr>\n",
       "      <th>3</th>\n",
       "      <td>4</td>\n",
       "      <td>The Secret Sin (1915)</td>\n",
       "      <td>drama</td>\n",
       "      <td>To help their unemployed father make ends meet...</td>\n",
       "    </tr>\n",
       "    <tr>\n",
       "      <th>4</th>\n",
       "      <td>5</td>\n",
       "      <td>The Unrecovered (2007)</td>\n",
       "      <td>drama</td>\n",
       "      <td>The film's title refers not only to the un-rec...</td>\n",
       "    </tr>\n",
       "    <tr>\n",
       "      <th>...</th>\n",
       "      <td>...</td>\n",
       "      <td>...</td>\n",
       "      <td>...</td>\n",
       "      <td>...</td>\n",
       "    </tr>\n",
       "    <tr>\n",
       "      <th>54209</th>\n",
       "      <td>54210</td>\n",
       "      <td>\"Bonino\" (1953)</td>\n",
       "      <td>comedy</td>\n",
       "      <td>This short-lived NBC live sitcom centered on B...</td>\n",
       "    </tr>\n",
       "    <tr>\n",
       "      <th>54210</th>\n",
       "      <td>54211</td>\n",
       "      <td>Dead Girls Don't Cry (????)</td>\n",
       "      <td>horror</td>\n",
       "      <td>The NEXT Generation of EXPLOITATION. The siste...</td>\n",
       "    </tr>\n",
       "    <tr>\n",
       "      <th>54211</th>\n",
       "      <td>54212</td>\n",
       "      <td>Ronald Goedemondt: Ze bestaan echt (2008)</td>\n",
       "      <td>documentary</td>\n",
       "      <td>Ze bestaan echt, is a stand-up comedy about gr...</td>\n",
       "    </tr>\n",
       "    <tr>\n",
       "      <th>54212</th>\n",
       "      <td>54213</td>\n",
       "      <td>Make Your Own Bed (1944)</td>\n",
       "      <td>comedy</td>\n",
       "      <td>Walter and Vivian live in the country and have...</td>\n",
       "    </tr>\n",
       "    <tr>\n",
       "      <th>54213</th>\n",
       "      <td>54214</td>\n",
       "      <td>Nature's Fury: Storm of the Century (2006)</td>\n",
       "      <td>history</td>\n",
       "      <td>On Labor Day Weekend, 1935, the most intense h...</td>\n",
       "    </tr>\n",
       "  </tbody>\n",
       "</table>\n",
       "<p>54214 rows × 4 columns</p>\n",
       "</div>"
      ],
      "text/plain": [
       "          id                                       title        genre  \\\n",
       "0          1                Oscar et la dame rose (2009)        drama   \n",
       "1          2                                Cupid (1997)     thriller   \n",
       "2          3            Young, Wild and Wonderful (1980)        adult   \n",
       "3          4                       The Secret Sin (1915)        drama   \n",
       "4          5                      The Unrecovered (2007)        drama   \n",
       "...      ...                                         ...          ...   \n",
       "54209  54210                             \"Bonino\" (1953)       comedy   \n",
       "54210  54211                 Dead Girls Don't Cry (????)       horror   \n",
       "54211  54212   Ronald Goedemondt: Ze bestaan echt (2008)  documentary   \n",
       "54212  54213                    Make Your Own Bed (1944)       comedy   \n",
       "54213  54214  Nature's Fury: Storm of the Century (2006)      history   \n",
       "\n",
       "                                                    plot  \n",
       "0      Listening in to a conversation between his doc...  \n",
       "1      A brother and sister with a past incestuous re...  \n",
       "2      As the bus empties the students for their fiel...  \n",
       "3      To help their unemployed father make ends meet...  \n",
       "4      The film's title refers not only to the un-rec...  \n",
       "...                                                  ...  \n",
       "54209  This short-lived NBC live sitcom centered on B...  \n",
       "54210  The NEXT Generation of EXPLOITATION. The siste...  \n",
       "54211  Ze bestaan echt, is a stand-up comedy about gr...  \n",
       "54212  Walter and Vivian live in the country and have...  \n",
       "54213  On Labor Day Weekend, 1935, the most intense h...  \n",
       "\n",
       "[54214 rows x 4 columns]"
      ]
     },
     "execution_count": 4,
     "metadata": {},
     "output_type": "execute_result"
    }
   ],
   "source": [
    "# Load datasets\n",
    "train_data = pd.read_csv('/kaggle/input/genre-classification-dataset-imdb/Genre Classification Dataset/train_data.txt',sep=' ::: ' ,header=None ,names=['id','title','genre','plot'],engine='python')\n",
    "train_data"
   ]
  },
  {
   "cell_type": "code",
   "execution_count": 5,
   "id": "88d1e83a",
   "metadata": {
    "execution": {
     "iopub.execute_input": "2024-08-07T14:31:11.116363Z",
     "iopub.status.busy": "2024-08-07T14:31:11.115993Z",
     "iopub.status.idle": "2024-08-07T14:31:11.772327Z",
     "shell.execute_reply": "2024-08-07T14:31:11.771233Z"
    },
    "papermill": {
     "duration": 0.667304,
     "end_time": "2024-08-07T14:31:11.774445",
     "exception": false,
     "start_time": "2024-08-07T14:31:11.107141",
     "status": "completed"
    },
    "tags": []
   },
   "outputs": [
    {
     "data": {
      "text/html": [
       "<div>\n",
       "<style scoped>\n",
       "    .dataframe tbody tr th:only-of-type {\n",
       "        vertical-align: middle;\n",
       "    }\n",
       "\n",
       "    .dataframe tbody tr th {\n",
       "        vertical-align: top;\n",
       "    }\n",
       "\n",
       "    .dataframe thead th {\n",
       "        text-align: right;\n",
       "    }\n",
       "</style>\n",
       "<table border=\"1\" class=\"dataframe\">\n",
       "  <thead>\n",
       "    <tr style=\"text-align: right;\">\n",
       "      <th></th>\n",
       "      <th>id</th>\n",
       "      <th>title</th>\n",
       "      <th>plot</th>\n",
       "    </tr>\n",
       "  </thead>\n",
       "  <tbody>\n",
       "    <tr>\n",
       "      <th>0</th>\n",
       "      <td>1</td>\n",
       "      <td>Edgar's Lunch (1998)</td>\n",
       "      <td>L.R. Brane loves his life - his car, his apart...</td>\n",
       "    </tr>\n",
       "    <tr>\n",
       "      <th>1</th>\n",
       "      <td>2</td>\n",
       "      <td>La guerra de papá (1977)</td>\n",
       "      <td>Spain, March 1964: Quico is a very naughty chi...</td>\n",
       "    </tr>\n",
       "    <tr>\n",
       "      <th>2</th>\n",
       "      <td>3</td>\n",
       "      <td>Off the Beaten Track (2010)</td>\n",
       "      <td>One year in the life of Albin and his family o...</td>\n",
       "    </tr>\n",
       "    <tr>\n",
       "      <th>3</th>\n",
       "      <td>4</td>\n",
       "      <td>Meu Amigo Hindu (2015)</td>\n",
       "      <td>His father has died, he hasn't spoken with his...</td>\n",
       "    </tr>\n",
       "    <tr>\n",
       "      <th>4</th>\n",
       "      <td>5</td>\n",
       "      <td>Er nu zhai (1955)</td>\n",
       "      <td>Before he was known internationally as a marti...</td>\n",
       "    </tr>\n",
       "    <tr>\n",
       "      <th>...</th>\n",
       "      <td>...</td>\n",
       "      <td>...</td>\n",
       "      <td>...</td>\n",
       "    </tr>\n",
       "    <tr>\n",
       "      <th>54195</th>\n",
       "      <td>54196</td>\n",
       "      <td>\"Tales of Light &amp; Dark\" (2013)</td>\n",
       "      <td>Covering multiple genres, Tales of Light &amp; Dar...</td>\n",
       "    </tr>\n",
       "    <tr>\n",
       "      <th>54196</th>\n",
       "      <td>54197</td>\n",
       "      <td>Der letzte Mohikaner (1965)</td>\n",
       "      <td>As Alice and Cora Munro attempt to find their ...</td>\n",
       "    </tr>\n",
       "    <tr>\n",
       "      <th>54197</th>\n",
       "      <td>54198</td>\n",
       "      <td>Oliver Twink (2007)</td>\n",
       "      <td>A movie 169 years in the making. Oliver Twist,...</td>\n",
       "    </tr>\n",
       "    <tr>\n",
       "      <th>54198</th>\n",
       "      <td>54199</td>\n",
       "      <td>Slipstream (1973)</td>\n",
       "      <td>Popular, but mysterious rock D.J Mike Mallard ...</td>\n",
       "    </tr>\n",
       "    <tr>\n",
       "      <th>54199</th>\n",
       "      <td>54200</td>\n",
       "      <td>Curitiba Zero Grau (2010)</td>\n",
       "      <td>Curitiba is a city in movement, with rhythms a...</td>\n",
       "    </tr>\n",
       "  </tbody>\n",
       "</table>\n",
       "<p>54200 rows × 3 columns</p>\n",
       "</div>"
      ],
      "text/plain": [
       "          id                           title  \\\n",
       "0          1            Edgar's Lunch (1998)   \n",
       "1          2        La guerra de papá (1977)   \n",
       "2          3     Off the Beaten Track (2010)   \n",
       "3          4          Meu Amigo Hindu (2015)   \n",
       "4          5               Er nu zhai (1955)   \n",
       "...      ...                             ...   \n",
       "54195  54196  \"Tales of Light & Dark\" (2013)   \n",
       "54196  54197     Der letzte Mohikaner (1965)   \n",
       "54197  54198             Oliver Twink (2007)   \n",
       "54198  54199               Slipstream (1973)   \n",
       "54199  54200       Curitiba Zero Grau (2010)   \n",
       "\n",
       "                                                    plot  \n",
       "0      L.R. Brane loves his life - his car, his apart...  \n",
       "1      Spain, March 1964: Quico is a very naughty chi...  \n",
       "2      One year in the life of Albin and his family o...  \n",
       "3      His father has died, he hasn't spoken with his...  \n",
       "4      Before he was known internationally as a marti...  \n",
       "...                                                  ...  \n",
       "54195  Covering multiple genres, Tales of Light & Dar...  \n",
       "54196  As Alice and Cora Munro attempt to find their ...  \n",
       "54197  A movie 169 years in the making. Oliver Twist,...  \n",
       "54198  Popular, but mysterious rock D.J Mike Mallard ...  \n",
       "54199  Curitiba is a city in movement, with rhythms a...  \n",
       "\n",
       "[54200 rows x 3 columns]"
      ]
     },
     "execution_count": 5,
     "metadata": {},
     "output_type": "execute_result"
    }
   ],
   "source": [
    "test_data = pd.read_csv('/kaggle/input/genre-classification-dataset-imdb/Genre Classification Dataset/test_data.txt', sep=' ::: ', header=None, names=['id', 'title', 'plot'], engine='python')\n",
    "test_data"
   ]
  },
  {
   "cell_type": "code",
   "execution_count": 6,
   "id": "8e51006d",
   "metadata": {
    "execution": {
     "iopub.execute_input": "2024-08-07T14:31:11.791984Z",
     "iopub.status.busy": "2024-08-07T14:31:11.791608Z",
     "iopub.status.idle": "2024-08-07T14:31:12.783477Z",
     "shell.execute_reply": "2024-08-07T14:31:12.782455Z"
    },
    "papermill": {
     "duration": 1.003409,
     "end_time": "2024-08-07T14:31:12.785844",
     "exception": false,
     "start_time": "2024-08-07T14:31:11.782435",
     "status": "completed"
    },
    "tags": []
   },
   "outputs": [
    {
     "data": {
      "text/html": [
       "<div>\n",
       "<style scoped>\n",
       "    .dataframe tbody tr th:only-of-type {\n",
       "        vertical-align: middle;\n",
       "    }\n",
       "\n",
       "    .dataframe tbody tr th {\n",
       "        vertical-align: top;\n",
       "    }\n",
       "\n",
       "    .dataframe thead th {\n",
       "        text-align: right;\n",
       "    }\n",
       "</style>\n",
       "<table border=\"1\" class=\"dataframe\">\n",
       "  <thead>\n",
       "    <tr style=\"text-align: right;\">\n",
       "      <th></th>\n",
       "      <th>id</th>\n",
       "      <th>title</th>\n",
       "      <th>genre</th>\n",
       "      <th>plot</th>\n",
       "    </tr>\n",
       "  </thead>\n",
       "  <tbody>\n",
       "    <tr>\n",
       "      <th>0</th>\n",
       "      <td>1</td>\n",
       "      <td>Edgar's Lunch (1998)</td>\n",
       "      <td>thriller</td>\n",
       "      <td>L.R. Brane loves his life - his car, his apart...</td>\n",
       "    </tr>\n",
       "    <tr>\n",
       "      <th>1</th>\n",
       "      <td>2</td>\n",
       "      <td>La guerra de papá (1977)</td>\n",
       "      <td>comedy</td>\n",
       "      <td>Spain, March 1964: Quico is a very naughty chi...</td>\n",
       "    </tr>\n",
       "    <tr>\n",
       "      <th>2</th>\n",
       "      <td>3</td>\n",
       "      <td>Off the Beaten Track (2010)</td>\n",
       "      <td>documentary</td>\n",
       "      <td>One year in the life of Albin and his family o...</td>\n",
       "    </tr>\n",
       "    <tr>\n",
       "      <th>3</th>\n",
       "      <td>4</td>\n",
       "      <td>Meu Amigo Hindu (2015)</td>\n",
       "      <td>drama</td>\n",
       "      <td>His father has died, he hasn't spoken with his...</td>\n",
       "    </tr>\n",
       "    <tr>\n",
       "      <th>4</th>\n",
       "      <td>5</td>\n",
       "      <td>Er nu zhai (1955)</td>\n",
       "      <td>drama</td>\n",
       "      <td>Before he was known internationally as a marti...</td>\n",
       "    </tr>\n",
       "    <tr>\n",
       "      <th>...</th>\n",
       "      <td>...</td>\n",
       "      <td>...</td>\n",
       "      <td>...</td>\n",
       "      <td>...</td>\n",
       "    </tr>\n",
       "    <tr>\n",
       "      <th>54195</th>\n",
       "      <td>54196</td>\n",
       "      <td>\"Tales of Light &amp; Dark\" (2013)</td>\n",
       "      <td>horror</td>\n",
       "      <td>Covering multiple genres, Tales of Light &amp; Dar...</td>\n",
       "    </tr>\n",
       "    <tr>\n",
       "      <th>54196</th>\n",
       "      <td>54197</td>\n",
       "      <td>Der letzte Mohikaner (1965)</td>\n",
       "      <td>western</td>\n",
       "      <td>As Alice and Cora Munro attempt to find their ...</td>\n",
       "    </tr>\n",
       "    <tr>\n",
       "      <th>54197</th>\n",
       "      <td>54198</td>\n",
       "      <td>Oliver Twink (2007)</td>\n",
       "      <td>adult</td>\n",
       "      <td>A movie 169 years in the making. Oliver Twist,...</td>\n",
       "    </tr>\n",
       "    <tr>\n",
       "      <th>54198</th>\n",
       "      <td>54199</td>\n",
       "      <td>Slipstream (1973)</td>\n",
       "      <td>drama</td>\n",
       "      <td>Popular, but mysterious rock D.J Mike Mallard ...</td>\n",
       "    </tr>\n",
       "    <tr>\n",
       "      <th>54199</th>\n",
       "      <td>54200</td>\n",
       "      <td>Curitiba Zero Grau (2010)</td>\n",
       "      <td>drama</td>\n",
       "      <td>Curitiba is a city in movement, with rhythms a...</td>\n",
       "    </tr>\n",
       "  </tbody>\n",
       "</table>\n",
       "<p>54200 rows × 4 columns</p>\n",
       "</div>"
      ],
      "text/plain": [
       "          id                           title        genre  \\\n",
       "0          1            Edgar's Lunch (1998)     thriller   \n",
       "1          2        La guerra de papá (1977)       comedy   \n",
       "2          3     Off the Beaten Track (2010)  documentary   \n",
       "3          4          Meu Amigo Hindu (2015)        drama   \n",
       "4          5               Er nu zhai (1955)        drama   \n",
       "...      ...                             ...          ...   \n",
       "54195  54196  \"Tales of Light & Dark\" (2013)       horror   \n",
       "54196  54197     Der letzte Mohikaner (1965)      western   \n",
       "54197  54198             Oliver Twink (2007)        adult   \n",
       "54198  54199               Slipstream (1973)        drama   \n",
       "54199  54200       Curitiba Zero Grau (2010)        drama   \n",
       "\n",
       "                                                    plot  \n",
       "0      L.R. Brane loves his life - his car, his apart...  \n",
       "1      Spain, March 1964: Quico is a very naughty chi...  \n",
       "2      One year in the life of Albin and his family o...  \n",
       "3      His father has died, he hasn't spoken with his...  \n",
       "4      Before he was known internationally as a marti...  \n",
       "...                                                  ...  \n",
       "54195  Covering multiple genres, Tales of Light & Dar...  \n",
       "54196  As Alice and Cora Munro attempt to find their ...  \n",
       "54197  A movie 169 years in the making. Oliver Twist,...  \n",
       "54198  Popular, but mysterious rock D.J Mike Mallard ...  \n",
       "54199  Curitiba is a city in movement, with rhythms a...  \n",
       "\n",
       "[54200 rows x 4 columns]"
      ]
     },
     "execution_count": 6,
     "metadata": {},
     "output_type": "execute_result"
    }
   ],
   "source": [
    "test_data_solution = pd.read_csv('/kaggle/input/genre-classification-dataset-imdb/Genre Classification Dataset/test_data_solution.txt', sep=' ::: ', header=None, names=['id', 'title', 'genre', 'plot'],  engine='python')\n",
    "test_data_solution"
   ]
  },
  {
   "cell_type": "code",
   "execution_count": 7,
   "id": "0de9ea45",
   "metadata": {
    "execution": {
     "iopub.execute_input": "2024-08-07T14:31:12.804346Z",
     "iopub.status.busy": "2024-08-07T14:31:12.803737Z",
     "iopub.status.idle": "2024-08-07T14:31:12.809532Z",
     "shell.execute_reply": "2024-08-07T14:31:12.808553Z"
    },
    "papermill": {
     "duration": 0.017193,
     "end_time": "2024-08-07T14:31:12.811501",
     "exception": false,
     "start_time": "2024-08-07T14:31:12.794308",
     "status": "completed"
    },
    "tags": []
   },
   "outputs": [],
   "source": [
    "def preprocess(text):\n",
    "    # Remove special characters and punctuation\n",
    "    text = re.sub(r'[^\\w\\s]', '', text)\n",
    "    # Convert to lowercase\n",
    "    text = text.lower()\n",
    "    # Remove stop words\n",
    "    stop_words = set(stopwords.words('english'))\n",
    "    text = ' '.join([word for word in text.split() if word not in stop_words])\n",
    "    return text"
   ]
  },
  {
   "cell_type": "code",
   "execution_count": 8,
   "id": "7830c339",
   "metadata": {
    "execution": {
     "iopub.execute_input": "2024-08-07T14:31:12.830525Z",
     "iopub.status.busy": "2024-08-07T14:31:12.829676Z",
     "iopub.status.idle": "2024-08-07T14:31:32.050110Z",
     "shell.execute_reply": "2024-08-07T14:31:32.048977Z"
    },
    "papermill": {
     "duration": 19.232116,
     "end_time": "2024-08-07T14:31:32.052696",
     "exception": false,
     "start_time": "2024-08-07T14:31:12.820580",
     "status": "completed"
    },
    "tags": []
   },
   "outputs": [],
   "source": [
    "# Apply preprocessing to the plot column\n",
    "train_data['plot'] = train_data['plot'].apply(preprocess)\n",
    "test_data['plot'] = test_data['plot'].apply(preprocess)"
   ]
  },
  {
   "cell_type": "markdown",
   "id": "1a377b0c",
   "metadata": {
    "papermill": {
     "duration": 0.008273,
     "end_time": "2024-08-07T14:31:32.069569",
     "exception": false,
     "start_time": "2024-08-07T14:31:32.061296",
     "status": "completed"
    },
    "tags": []
   },
   "source": [
    "trainign a logistic regression model"
   ]
  },
  {
   "cell_type": "code",
   "execution_count": 9,
   "id": "b58dca76",
   "metadata": {
    "execution": {
     "iopub.execute_input": "2024-08-07T14:31:32.088347Z",
     "iopub.status.busy": "2024-08-07T14:31:32.087435Z",
     "iopub.status.idle": "2024-08-07T14:31:32.092406Z",
     "shell.execute_reply": "2024-08-07T14:31:32.091231Z"
    },
    "papermill": {
     "duration": 0.016657,
     "end_time": "2024-08-07T14:31:32.094471",
     "exception": false,
     "start_time": "2024-08-07T14:31:32.077814",
     "status": "completed"
    },
    "tags": []
   },
   "outputs": [],
   "source": [
    "# Initialize TF-IDF vectorizer\n",
    "tfidf_vectorizer = TfidfVectorizer()"
   ]
  },
  {
   "cell_type": "code",
   "execution_count": 10,
   "id": "fd0fa4b9",
   "metadata": {
    "execution": {
     "iopub.execute_input": "2024-08-07T14:31:32.112809Z",
     "iopub.status.busy": "2024-08-07T14:31:32.111963Z",
     "iopub.status.idle": "2024-08-07T14:31:35.789727Z",
     "shell.execute_reply": "2024-08-07T14:31:35.788708Z"
    },
    "papermill": {
     "duration": 3.689526,
     "end_time": "2024-08-07T14:31:35.792296",
     "exception": false,
     "start_time": "2024-08-07T14:31:32.102770",
     "status": "completed"
    },
    "tags": []
   },
   "outputs": [],
   "source": [
    "# Fit and transform the training data\n",
    "X_train = tfidf_vectorizer.fit_transform(train_data['plot'])"
   ]
  },
  {
   "cell_type": "code",
   "execution_count": 11,
   "id": "2dc0eb84",
   "metadata": {
    "execution": {
     "iopub.execute_input": "2024-08-07T14:31:35.810865Z",
     "iopub.status.busy": "2024-08-07T14:31:35.810471Z",
     "iopub.status.idle": "2024-08-07T14:31:38.886124Z",
     "shell.execute_reply": "2024-08-07T14:31:38.885075Z"
    },
    "papermill": {
     "duration": 3.08778,
     "end_time": "2024-08-07T14:31:38.888653",
     "exception": false,
     "start_time": "2024-08-07T14:31:35.800873",
     "status": "completed"
    },
    "tags": []
   },
   "outputs": [],
   "source": [
    "# Transform the test data\n",
    "X_test = tfidf_vectorizer.transform(test_data['plot'])\n"
   ]
  },
  {
   "cell_type": "code",
   "execution_count": 12,
   "id": "86823af2",
   "metadata": {
    "execution": {
     "iopub.execute_input": "2024-08-07T14:31:38.907049Z",
     "iopub.status.busy": "2024-08-07T14:31:38.906658Z",
     "iopub.status.idle": "2024-08-07T14:31:38.911237Z",
     "shell.execute_reply": "2024-08-07T14:31:38.910246Z"
    },
    "papermill": {
     "duration": 0.016117,
     "end_time": "2024-08-07T14:31:38.913178",
     "exception": false,
     "start_time": "2024-08-07T14:31:38.897061",
     "status": "completed"
    },
    "tags": []
   },
   "outputs": [],
   "source": [
    "# Initialize label encoder\n",
    "label_encoder = LabelEncoder()"
   ]
  },
  {
   "cell_type": "code",
   "execution_count": 13,
   "id": "f3bfb18e",
   "metadata": {
    "execution": {
     "iopub.execute_input": "2024-08-07T14:31:38.931008Z",
     "iopub.status.busy": "2024-08-07T14:31:38.930649Z",
     "iopub.status.idle": "2024-08-07T14:31:38.945827Z",
     "shell.execute_reply": "2024-08-07T14:31:38.944878Z"
    },
    "papermill": {
     "duration": 0.026513,
     "end_time": "2024-08-07T14:31:38.947871",
     "exception": false,
     "start_time": "2024-08-07T14:31:38.921358",
     "status": "completed"
    },
    "tags": []
   },
   "outputs": [],
   "source": [
    "# Fit and transform the genre column\n",
    "y_train = label_encoder.fit_transform(train_data['genre'])"
   ]
  },
  {
   "cell_type": "code",
   "execution_count": 14,
   "id": "2be39b29",
   "metadata": {
    "execution": {
     "iopub.execute_input": "2024-08-07T14:31:38.965720Z",
     "iopub.status.busy": "2024-08-07T14:31:38.965384Z",
     "iopub.status.idle": "2024-08-07T14:36:39.186549Z",
     "shell.execute_reply": "2024-08-07T14:36:39.185512Z"
    },
    "papermill": {
     "duration": 300.240834,
     "end_time": "2024-08-07T14:36:39.197136",
     "exception": false,
     "start_time": "2024-08-07T14:31:38.956302",
     "status": "completed"
    },
    "tags": []
   },
   "outputs": [
    {
     "data": {
      "text/html": [
       "<style>#sk-container-id-1 {color: black;background-color: white;}#sk-container-id-1 pre{padding: 0;}#sk-container-id-1 div.sk-toggleable {background-color: white;}#sk-container-id-1 label.sk-toggleable__label {cursor: pointer;display: block;width: 100%;margin-bottom: 0;padding: 0.3em;box-sizing: border-box;text-align: center;}#sk-container-id-1 label.sk-toggleable__label-arrow:before {content: \"▸\";float: left;margin-right: 0.25em;color: #696969;}#sk-container-id-1 label.sk-toggleable__label-arrow:hover:before {color: black;}#sk-container-id-1 div.sk-estimator:hover label.sk-toggleable__label-arrow:before {color: black;}#sk-container-id-1 div.sk-toggleable__content {max-height: 0;max-width: 0;overflow: hidden;text-align: left;background-color: #f0f8ff;}#sk-container-id-1 div.sk-toggleable__content pre {margin: 0.2em;color: black;border-radius: 0.25em;background-color: #f0f8ff;}#sk-container-id-1 input.sk-toggleable__control:checked~div.sk-toggleable__content {max-height: 200px;max-width: 100%;overflow: auto;}#sk-container-id-1 input.sk-toggleable__control:checked~label.sk-toggleable__label-arrow:before {content: \"▾\";}#sk-container-id-1 div.sk-estimator input.sk-toggleable__control:checked~label.sk-toggleable__label {background-color: #d4ebff;}#sk-container-id-1 div.sk-label input.sk-toggleable__control:checked~label.sk-toggleable__label {background-color: #d4ebff;}#sk-container-id-1 input.sk-hidden--visually {border: 0;clip: rect(1px 1px 1px 1px);clip: rect(1px, 1px, 1px, 1px);height: 1px;margin: -1px;overflow: hidden;padding: 0;position: absolute;width: 1px;}#sk-container-id-1 div.sk-estimator {font-family: monospace;background-color: #f0f8ff;border: 1px dotted black;border-radius: 0.25em;box-sizing: border-box;margin-bottom: 0.5em;}#sk-container-id-1 div.sk-estimator:hover {background-color: #d4ebff;}#sk-container-id-1 div.sk-parallel-item::after {content: \"\";width: 100%;border-bottom: 1px solid gray;flex-grow: 1;}#sk-container-id-1 div.sk-label:hover label.sk-toggleable__label {background-color: #d4ebff;}#sk-container-id-1 div.sk-serial::before {content: \"\";position: absolute;border-left: 1px solid gray;box-sizing: border-box;top: 0;bottom: 0;left: 50%;z-index: 0;}#sk-container-id-1 div.sk-serial {display: flex;flex-direction: column;align-items: center;background-color: white;padding-right: 0.2em;padding-left: 0.2em;position: relative;}#sk-container-id-1 div.sk-item {position: relative;z-index: 1;}#sk-container-id-1 div.sk-parallel {display: flex;align-items: stretch;justify-content: center;background-color: white;position: relative;}#sk-container-id-1 div.sk-item::before, #sk-container-id-1 div.sk-parallel-item::before {content: \"\";position: absolute;border-left: 1px solid gray;box-sizing: border-box;top: 0;bottom: 0;left: 50%;z-index: -1;}#sk-container-id-1 div.sk-parallel-item {display: flex;flex-direction: column;z-index: 1;position: relative;background-color: white;}#sk-container-id-1 div.sk-parallel-item:first-child::after {align-self: flex-end;width: 50%;}#sk-container-id-1 div.sk-parallel-item:last-child::after {align-self: flex-start;width: 50%;}#sk-container-id-1 div.sk-parallel-item:only-child::after {width: 0;}#sk-container-id-1 div.sk-dashed-wrapped {border: 1px dashed gray;margin: 0 0.4em 0.5em 0.4em;box-sizing: border-box;padding-bottom: 0.4em;background-color: white;}#sk-container-id-1 div.sk-label label {font-family: monospace;font-weight: bold;display: inline-block;line-height: 1.2em;}#sk-container-id-1 div.sk-label-container {text-align: center;}#sk-container-id-1 div.sk-container {/* jupyter's `normalize.less` sets `[hidden] { display: none; }` but bootstrap.min.css set `[hidden] { display: none !important; }` so we also need the `!important` here to be able to override the default hidden behavior on the sphinx rendered scikit-learn.org. See: https://github.com/scikit-learn/scikit-learn/issues/21755 */display: inline-block !important;position: relative;}#sk-container-id-1 div.sk-text-repr-fallback {display: none;}</style><div id=\"sk-container-id-1\" class=\"sk-top-container\"><div class=\"sk-text-repr-fallback\"><pre>LogisticRegression(max_iter=1000, random_state=42)</pre><b>In a Jupyter environment, please rerun this cell to show the HTML representation or trust the notebook. <br />On GitHub, the HTML representation is unable to render, please try loading this page with nbviewer.org.</b></div><div class=\"sk-container\" hidden><div class=\"sk-item\"><div class=\"sk-estimator sk-toggleable\"><input class=\"sk-toggleable__control sk-hidden--visually\" id=\"sk-estimator-id-1\" type=\"checkbox\" checked><label for=\"sk-estimator-id-1\" class=\"sk-toggleable__label sk-toggleable__label-arrow\">LogisticRegression</label><div class=\"sk-toggleable__content\"><pre>LogisticRegression(max_iter=1000, random_state=42)</pre></div></div></div></div></div>"
      ],
      "text/plain": [
       "LogisticRegression(max_iter=1000, random_state=42)"
      ]
     },
     "execution_count": 14,
     "metadata": {},
     "output_type": "execute_result"
    }
   ],
   "source": [
    "# Initialize and train the logistic regression model\n",
    "model = LogisticRegression(max_iter=1000, random_state=42)\n",
    "model.fit(X_train, y_train)"
   ]
  },
  {
   "cell_type": "code",
   "execution_count": 15,
   "id": "18f407cd",
   "metadata": {
    "execution": {
     "iopub.execute_input": "2024-08-07T14:36:39.215633Z",
     "iopub.status.busy": "2024-08-07T14:36:39.214999Z",
     "iopub.status.idle": "2024-08-07T14:36:39.310919Z",
     "shell.execute_reply": "2024-08-07T14:36:39.309786Z"
    },
    "papermill": {
     "duration": 0.107908,
     "end_time": "2024-08-07T14:36:39.313297",
     "exception": false,
     "start_time": "2024-08-07T14:36:39.205389",
     "status": "completed"
    },
    "tags": []
   },
   "outputs": [],
   "source": [
    "# Predict genres on the test data\n",
    "y_pred = model.predict(X_test)"
   ]
  },
  {
   "cell_type": "code",
   "execution_count": 16,
   "id": "ef49800a",
   "metadata": {
    "execution": {
     "iopub.execute_input": "2024-08-07T14:36:39.331793Z",
     "iopub.status.busy": "2024-08-07T14:36:39.331194Z",
     "iopub.status.idle": "2024-08-07T14:36:39.337446Z",
     "shell.execute_reply": "2024-08-07T14:36:39.336697Z"
    },
    "papermill": {
     "duration": 0.01757,
     "end_time": "2024-08-07T14:36:39.339315",
     "exception": false,
     "start_time": "2024-08-07T14:36:39.321745",
     "status": "completed"
    },
    "tags": []
   },
   "outputs": [],
   "source": [
    "# Convert predictions back to original genre labels\n",
    "y_pred_labels = label_encoder.inverse_transform(y_pred)\n"
   ]
  },
  {
   "cell_type": "code",
   "execution_count": 17,
   "id": "e4e6257e",
   "metadata": {
    "execution": {
     "iopub.execute_input": "2024-08-07T14:36:39.357439Z",
     "iopub.status.busy": "2024-08-07T14:36:39.356862Z",
     "iopub.status.idle": "2024-08-07T14:36:39.370848Z",
     "shell.execute_reply": "2024-08-07T14:36:39.369926Z"
    },
    "papermill": {
     "duration": 0.02534,
     "end_time": "2024-08-07T14:36:39.372904",
     "exception": false,
     "start_time": "2024-08-07T14:36:39.347564",
     "status": "completed"
    },
    "tags": []
   },
   "outputs": [],
   "source": [
    "# Load the test solution data\n",
    "y_test = label_encoder.transform(test_data_solution['genre'])\n"
   ]
  },
  {
   "cell_type": "code",
   "execution_count": 18,
   "id": "0170f9ad",
   "metadata": {
    "execution": {
     "iopub.execute_input": "2024-08-07T14:36:39.391091Z",
     "iopub.status.busy": "2024-08-07T14:36:39.390740Z",
     "iopub.status.idle": "2024-08-07T14:36:39.400653Z",
     "shell.execute_reply": "2024-08-07T14:36:39.399681Z"
    },
    "papermill": {
     "duration": 0.021247,
     "end_time": "2024-08-07T14:36:39.402611",
     "exception": false,
     "start_time": "2024-08-07T14:36:39.381364",
     "status": "completed"
    },
    "tags": []
   },
   "outputs": [
    {
     "name": "stdout",
     "output_type": "stream",
     "text": [
      "Accuracy: 0.5894280442804428\n"
     ]
    }
   ],
   "source": [
    "# Calculate and print the accuracy\n",
    "accuracy = accuracy_score(y_test, y_pred)\n",
    "print(f\"Accuracy: {accuracy}\")\n"
   ]
  },
  {
   "cell_type": "code",
   "execution_count": 19,
   "id": "a9268ae8",
   "metadata": {
    "execution": {
     "iopub.execute_input": "2024-08-07T14:36:39.421277Z",
     "iopub.status.busy": "2024-08-07T14:36:39.420949Z",
     "iopub.status.idle": "2024-08-07T14:36:39.546770Z",
     "shell.execute_reply": "2024-08-07T14:36:39.545622Z"
    },
    "papermill": {
     "duration": 0.138204,
     "end_time": "2024-08-07T14:36:39.549353",
     "exception": false,
     "start_time": "2024-08-07T14:36:39.411149",
     "status": "completed"
    },
    "tags": []
   },
   "outputs": [
    {
     "name": "stdout",
     "output_type": "stream",
     "text": [
      "              precision    recall  f1-score   support\n",
      "\n",
      "      action       0.53      0.25      0.34      1314\n",
      "       adult       0.63      0.19      0.30       590\n",
      "   adventure       0.71      0.14      0.24       775\n",
      "   animation       0.59      0.03      0.05       498\n",
      "   biography       0.00      0.00      0.00       264\n",
      "      comedy       0.54      0.59      0.57      7446\n",
      "       crime       0.45      0.02      0.03       505\n",
      " documentary       0.66      0.88      0.75     13096\n",
      "       drama       0.54      0.80      0.64     13612\n",
      "      family       0.56      0.07      0.12       783\n",
      "     fantasy       0.71      0.02      0.03       322\n",
      "   game-show       0.92      0.47      0.62       193\n",
      "     history       0.00      0.00      0.00       243\n",
      "      horror       0.67      0.57      0.61      2204\n",
      "       music       0.70      0.38      0.49       731\n",
      "     musical       1.00      0.00      0.01       276\n",
      "     mystery       0.00      0.00      0.00       318\n",
      "        news       0.75      0.03      0.06       181\n",
      "  reality-tv       0.50      0.15      0.23       883\n",
      "     romance       0.28      0.01      0.01       672\n",
      "      sci-fi       0.60      0.20      0.31       646\n",
      "       short       0.52      0.31      0.39      5072\n",
      "       sport       0.79      0.19      0.31       431\n",
      "   talk-show       0.65      0.13      0.22       391\n",
      "    thriller       0.42      0.11      0.18      1590\n",
      "         war       0.00      0.00      0.00       132\n",
      "     western       0.93      0.69      0.79      1032\n",
      "\n",
      "    accuracy                           0.59     54200\n",
      "   macro avg       0.54      0.23      0.27     54200\n",
      "weighted avg       0.58      0.59      0.54     54200\n",
      "\n"
     ]
    },
    {
     "name": "stderr",
     "output_type": "stream",
     "text": [
      "/opt/conda/lib/python3.10/site-packages/sklearn/metrics/_classification.py:1344: UndefinedMetricWarning: Precision and F-score are ill-defined and being set to 0.0 in labels with no predicted samples. Use `zero_division` parameter to control this behavior.\n",
      "  _warn_prf(average, modifier, msg_start, len(result))\n",
      "/opt/conda/lib/python3.10/site-packages/sklearn/metrics/_classification.py:1344: UndefinedMetricWarning: Precision and F-score are ill-defined and being set to 0.0 in labels with no predicted samples. Use `zero_division` parameter to control this behavior.\n",
      "  _warn_prf(average, modifier, msg_start, len(result))\n",
      "/opt/conda/lib/python3.10/site-packages/sklearn/metrics/_classification.py:1344: UndefinedMetricWarning: Precision and F-score are ill-defined and being set to 0.0 in labels with no predicted samples. Use `zero_division` parameter to control this behavior.\n",
      "  _warn_prf(average, modifier, msg_start, len(result))\n"
     ]
    }
   ],
   "source": [
    "# Print the classification report for more detailed performance metrics\n",
    "print(classification_report(y_test, y_pred, target_names=label_encoder.classes_))"
   ]
  },
  {
   "cell_type": "markdown",
   "id": "fac27b7f",
   "metadata": {
    "papermill": {
     "duration": 0.008374,
     "end_time": "2024-08-07T14:36:39.566392",
     "exception": false,
     "start_time": "2024-08-07T14:36:39.558018",
     "status": "completed"
    },
    "tags": []
   },
   "source": []
  },
  {
   "cell_type": "markdown",
   "id": "83331c43",
   "metadata": {
    "papermill": {
     "duration": 0.008138,
     "end_time": "2024-08-07T14:36:39.583228",
     "exception": false,
     "start_time": "2024-08-07T14:36:39.575090",
     "status": "completed"
    },
    "tags": []
   },
   "source": [
    "TARINING A NAIVE BAYES MODEL "
   ]
  },
  {
   "cell_type": "code",
   "execution_count": 20,
   "id": "90c2a579",
   "metadata": {
    "execution": {
     "iopub.execute_input": "2024-08-07T14:36:39.601923Z",
     "iopub.status.busy": "2024-08-07T14:36:39.601551Z",
     "iopub.status.idle": "2024-08-07T14:36:46.170104Z",
     "shell.execute_reply": "2024-08-07T14:36:46.169229Z"
    },
    "papermill": {
     "duration": 6.580732,
     "end_time": "2024-08-07T14:36:46.172456",
     "exception": false,
     "start_time": "2024-08-07T14:36:39.591724",
     "status": "completed"
    },
    "tags": []
   },
   "outputs": [],
   "source": [
    "# TF-IDF Vectorization\n",
    "tfidf_vectorizer = TfidfVectorizer()\n",
    "X_train_tfidf = tfidf_vectorizer.fit_transform(train_data['plot'])\n",
    "X_test_tfidf = tfidf_vectorizer.transform(test_data['plot'])"
   ]
  },
  {
   "cell_type": "code",
   "execution_count": 21,
   "id": "8ef1015d",
   "metadata": {
    "execution": {
     "iopub.execute_input": "2024-08-07T14:36:46.191583Z",
     "iopub.status.busy": "2024-08-07T14:36:46.191211Z",
     "iopub.status.idle": "2024-08-07T14:36:46.216070Z",
     "shell.execute_reply": "2024-08-07T14:36:46.215030Z"
    },
    "papermill": {
     "duration": 0.036779,
     "end_time": "2024-08-07T14:36:46.218126",
     "exception": false,
     "start_time": "2024-08-07T14:36:46.181347",
     "status": "completed"
    },
    "tags": []
   },
   "outputs": [],
   "source": [
    "# Label Encoding\n",
    "label_encoder = LabelEncoder()\n",
    "y_train_encoded = label_encoder.fit_transform(train_data['genre'])\n",
    "y_test_encoded = label_encoder.transform(test_data_solution['genre'])\n"
   ]
  },
  {
   "cell_type": "code",
   "execution_count": 22,
   "id": "df135a68",
   "metadata": {
    "execution": {
     "iopub.execute_input": "2024-08-07T14:36:46.237071Z",
     "iopub.status.busy": "2024-08-07T14:36:46.236708Z",
     "iopub.status.idle": "2024-08-07T14:36:46.407573Z",
     "shell.execute_reply": "2024-08-07T14:36:46.406572Z"
    },
    "papermill": {
     "duration": 0.182847,
     "end_time": "2024-08-07T14:36:46.409727",
     "exception": false,
     "start_time": "2024-08-07T14:36:46.226880",
     "status": "completed"
    },
    "tags": []
   },
   "outputs": [
    {
     "data": {
      "text/html": [
       "<style>#sk-container-id-2 {color: black;background-color: white;}#sk-container-id-2 pre{padding: 0;}#sk-container-id-2 div.sk-toggleable {background-color: white;}#sk-container-id-2 label.sk-toggleable__label {cursor: pointer;display: block;width: 100%;margin-bottom: 0;padding: 0.3em;box-sizing: border-box;text-align: center;}#sk-container-id-2 label.sk-toggleable__label-arrow:before {content: \"▸\";float: left;margin-right: 0.25em;color: #696969;}#sk-container-id-2 label.sk-toggleable__label-arrow:hover:before {color: black;}#sk-container-id-2 div.sk-estimator:hover label.sk-toggleable__label-arrow:before {color: black;}#sk-container-id-2 div.sk-toggleable__content {max-height: 0;max-width: 0;overflow: hidden;text-align: left;background-color: #f0f8ff;}#sk-container-id-2 div.sk-toggleable__content pre {margin: 0.2em;color: black;border-radius: 0.25em;background-color: #f0f8ff;}#sk-container-id-2 input.sk-toggleable__control:checked~div.sk-toggleable__content {max-height: 200px;max-width: 100%;overflow: auto;}#sk-container-id-2 input.sk-toggleable__control:checked~label.sk-toggleable__label-arrow:before {content: \"▾\";}#sk-container-id-2 div.sk-estimator input.sk-toggleable__control:checked~label.sk-toggleable__label {background-color: #d4ebff;}#sk-container-id-2 div.sk-label input.sk-toggleable__control:checked~label.sk-toggleable__label {background-color: #d4ebff;}#sk-container-id-2 input.sk-hidden--visually {border: 0;clip: rect(1px 1px 1px 1px);clip: rect(1px, 1px, 1px, 1px);height: 1px;margin: -1px;overflow: hidden;padding: 0;position: absolute;width: 1px;}#sk-container-id-2 div.sk-estimator {font-family: monospace;background-color: #f0f8ff;border: 1px dotted black;border-radius: 0.25em;box-sizing: border-box;margin-bottom: 0.5em;}#sk-container-id-2 div.sk-estimator:hover {background-color: #d4ebff;}#sk-container-id-2 div.sk-parallel-item::after {content: \"\";width: 100%;border-bottom: 1px solid gray;flex-grow: 1;}#sk-container-id-2 div.sk-label:hover label.sk-toggleable__label {background-color: #d4ebff;}#sk-container-id-2 div.sk-serial::before {content: \"\";position: absolute;border-left: 1px solid gray;box-sizing: border-box;top: 0;bottom: 0;left: 50%;z-index: 0;}#sk-container-id-2 div.sk-serial {display: flex;flex-direction: column;align-items: center;background-color: white;padding-right: 0.2em;padding-left: 0.2em;position: relative;}#sk-container-id-2 div.sk-item {position: relative;z-index: 1;}#sk-container-id-2 div.sk-parallel {display: flex;align-items: stretch;justify-content: center;background-color: white;position: relative;}#sk-container-id-2 div.sk-item::before, #sk-container-id-2 div.sk-parallel-item::before {content: \"\";position: absolute;border-left: 1px solid gray;box-sizing: border-box;top: 0;bottom: 0;left: 50%;z-index: -1;}#sk-container-id-2 div.sk-parallel-item {display: flex;flex-direction: column;z-index: 1;position: relative;background-color: white;}#sk-container-id-2 div.sk-parallel-item:first-child::after {align-self: flex-end;width: 50%;}#sk-container-id-2 div.sk-parallel-item:last-child::after {align-self: flex-start;width: 50%;}#sk-container-id-2 div.sk-parallel-item:only-child::after {width: 0;}#sk-container-id-2 div.sk-dashed-wrapped {border: 1px dashed gray;margin: 0 0.4em 0.5em 0.4em;box-sizing: border-box;padding-bottom: 0.4em;background-color: white;}#sk-container-id-2 div.sk-label label {font-family: monospace;font-weight: bold;display: inline-block;line-height: 1.2em;}#sk-container-id-2 div.sk-label-container {text-align: center;}#sk-container-id-2 div.sk-container {/* jupyter's `normalize.less` sets `[hidden] { display: none; }` but bootstrap.min.css set `[hidden] { display: none !important; }` so we also need the `!important` here to be able to override the default hidden behavior on the sphinx rendered scikit-learn.org. See: https://github.com/scikit-learn/scikit-learn/issues/21755 */display: inline-block !important;position: relative;}#sk-container-id-2 div.sk-text-repr-fallback {display: none;}</style><div id=\"sk-container-id-2\" class=\"sk-top-container\"><div class=\"sk-text-repr-fallback\"><pre>MultinomialNB()</pre><b>In a Jupyter environment, please rerun this cell to show the HTML representation or trust the notebook. <br />On GitHub, the HTML representation is unable to render, please try loading this page with nbviewer.org.</b></div><div class=\"sk-container\" hidden><div class=\"sk-item\"><div class=\"sk-estimator sk-toggleable\"><input class=\"sk-toggleable__control sk-hidden--visually\" id=\"sk-estimator-id-2\" type=\"checkbox\" checked><label for=\"sk-estimator-id-2\" class=\"sk-toggleable__label sk-toggleable__label-arrow\">MultinomialNB</label><div class=\"sk-toggleable__content\"><pre>MultinomialNB()</pre></div></div></div></div></div>"
      ],
      "text/plain": [
       "MultinomialNB()"
      ]
     },
     "execution_count": 22,
     "metadata": {},
     "output_type": "execute_result"
    }
   ],
   "source": [
    "# Train the Naive Bayes model\n",
    "nb_model = MultinomialNB()\n",
    "nb_model.fit(X_train_tfidf, y_train_encoded)"
   ]
  },
  {
   "cell_type": "code",
   "execution_count": 23,
   "id": "89da9ea2",
   "metadata": {
    "execution": {
     "iopub.execute_input": "2024-08-07T14:36:46.428838Z",
     "iopub.status.busy": "2024-08-07T14:36:46.428496Z",
     "iopub.status.idle": "2024-08-07T14:36:46.521324Z",
     "shell.execute_reply": "2024-08-07T14:36:46.520356Z"
    },
    "papermill": {
     "duration": 0.104998,
     "end_time": "2024-08-07T14:36:46.523786",
     "exception": false,
     "start_time": "2024-08-07T14:36:46.418788",
     "status": "completed"
    },
    "tags": []
   },
   "outputs": [],
   "source": [
    "# Evaluate the model on the test set\n",
    "y_test_pred = nb_model.predict(X_test_tfidf)\n",
    "y_test_pred_labels = label_encoder.inverse_transform(y_test_pred)\n"
   ]
  },
  {
   "cell_type": "code",
   "execution_count": 24,
   "id": "35cada04",
   "metadata": {
    "execution": {
     "iopub.execute_input": "2024-08-07T14:36:46.543314Z",
     "iopub.status.busy": "2024-08-07T14:36:46.542957Z",
     "iopub.status.idle": "2024-08-07T14:36:46.659687Z",
     "shell.execute_reply": "2024-08-07T14:36:46.658714Z"
    },
    "papermill": {
     "duration": 0.130293,
     "end_time": "2024-08-07T14:36:46.663093",
     "exception": false,
     "start_time": "2024-08-07T14:36:46.532800",
     "status": "completed"
    },
    "tags": []
   },
   "outputs": [
    {
     "name": "stdout",
     "output_type": "stream",
     "text": [
      "Test Accuracy: 0.4441328413284133\n",
      "              precision    recall  f1-score   support\n",
      "\n",
      "      action       0.00      0.00      0.00      1314\n",
      "       adult       0.00      0.00      0.00       590\n",
      "   adventure       0.00      0.00      0.00       775\n",
      "   animation       0.00      0.00      0.00       498\n",
      "   biography       0.00      0.00      0.00       264\n",
      "      comedy       0.74      0.04      0.07      7446\n",
      "       crime       0.00      0.00      0.00       505\n",
      " documentary       0.53      0.90      0.67     13096\n",
      "       drama       0.38      0.88      0.53     13612\n",
      "      family       0.00      0.00      0.00       783\n",
      "     fantasy       0.00      0.00      0.00       322\n",
      "   game-show       0.00      0.00      0.00       193\n",
      "     history       0.00      0.00      0.00       243\n",
      "      horror       0.00      0.00      0.00      2204\n",
      "       music       0.00      0.00      0.00       731\n",
      "     musical       0.00      0.00      0.00       276\n",
      "     mystery       0.00      0.00      0.00       318\n",
      "        news       0.00      0.00      0.00       181\n",
      "  reality-tv       0.00      0.00      0.00       883\n",
      "     romance       0.00      0.00      0.00       672\n",
      "      sci-fi       0.00      0.00      0.00       646\n",
      "       short       1.00      0.00      0.01      5072\n",
      "       sport       0.00      0.00      0.00       431\n",
      "   talk-show       0.00      0.00      0.00       391\n",
      "    thriller       0.00      0.00      0.00      1590\n",
      "         war       0.00      0.00      0.00       132\n",
      "     western       1.00      0.00      0.00      1032\n",
      "\n",
      "    accuracy                           0.44     54200\n",
      "   macro avg       0.14      0.07      0.05     54200\n",
      "weighted avg       0.44      0.44      0.30     54200\n",
      "\n"
     ]
    },
    {
     "name": "stderr",
     "output_type": "stream",
     "text": [
      "/opt/conda/lib/python3.10/site-packages/sklearn/metrics/_classification.py:1344: UndefinedMetricWarning: Precision and F-score are ill-defined and being set to 0.0 in labels with no predicted samples. Use `zero_division` parameter to control this behavior.\n",
      "  _warn_prf(average, modifier, msg_start, len(result))\n",
      "/opt/conda/lib/python3.10/site-packages/sklearn/metrics/_classification.py:1344: UndefinedMetricWarning: Precision and F-score are ill-defined and being set to 0.0 in labels with no predicted samples. Use `zero_division` parameter to control this behavior.\n",
      "  _warn_prf(average, modifier, msg_start, len(result))\n",
      "/opt/conda/lib/python3.10/site-packages/sklearn/metrics/_classification.py:1344: UndefinedMetricWarning: Precision and F-score are ill-defined and being set to 0.0 in labels with no predicted samples. Use `zero_division` parameter to control this behavior.\n",
      "  _warn_prf(average, modifier, msg_start, len(result))\n"
     ]
    }
   ],
   "source": [
    "# Calculate and print test accuracy\n",
    "print(f\"Test Accuracy: {accuracy_score(y_test_encoded, y_test_pred)}\")\n",
    "print(classification_report(y_test_encoded, y_test_pred, target_names=label_encoder.classes_))"
   ]
  },
  {
   "cell_type": "markdown",
   "id": "9f3544eb",
   "metadata": {
    "papermill": {
     "duration": 0.009236,
     "end_time": "2024-08-07T14:36:46.681792",
     "exception": false,
     "start_time": "2024-08-07T14:36:46.672556",
     "status": "completed"
    },
    "tags": []
   },
   "source": [
    "trying a random forest classifier "
   ]
  },
  {
   "cell_type": "code",
   "execution_count": 25,
   "id": "ac9dc252",
   "metadata": {
    "execution": {
     "iopub.execute_input": "2024-08-07T14:36:46.702829Z",
     "iopub.status.busy": "2024-08-07T14:36:46.701901Z",
     "iopub.status.idle": "2024-08-07T14:36:53.253794Z",
     "shell.execute_reply": "2024-08-07T14:36:53.252749Z"
    },
    "papermill": {
     "duration": 6.564986,
     "end_time": "2024-08-07T14:36:53.256254",
     "exception": false,
     "start_time": "2024-08-07T14:36:46.691268",
     "status": "completed"
    },
    "tags": []
   },
   "outputs": [],
   "source": [
    "# TF-IDF Vectorization\n",
    "tfidf_vectorizer = TfidfVectorizer()\n",
    "X_train_tfidf = tfidf_vectorizer.fit_transform(train_data['plot'])\n",
    "X_test_tfidf = tfidf_vectorizer.transform(test_data['plot'])"
   ]
  },
  {
   "cell_type": "code",
   "execution_count": 26,
   "id": "2fd3133f",
   "metadata": {
    "execution": {
     "iopub.execute_input": "2024-08-07T14:36:53.275980Z",
     "iopub.status.busy": "2024-08-07T14:36:53.275609Z",
     "iopub.status.idle": "2024-08-07T14:36:53.301879Z",
     "shell.execute_reply": "2024-08-07T14:36:53.301052Z"
    },
    "papermill": {
     "duration": 0.038498,
     "end_time": "2024-08-07T14:36:53.304084",
     "exception": false,
     "start_time": "2024-08-07T14:36:53.265586",
     "status": "completed"
    },
    "tags": []
   },
   "outputs": [],
   "source": [
    "# Label Encoding\n",
    "label_encoder = LabelEncoder()\n",
    "y_train_encoded = label_encoder.fit_transform(train_data['genre'])\n",
    "y_test_encoded = label_encoder.transform(test_data_solution['genre'])"
   ]
  },
  {
   "cell_type": "code",
   "execution_count": 27,
   "id": "fe24ddcb",
   "metadata": {
    "execution": {
     "iopub.execute_input": "2024-08-07T14:36:53.324099Z",
     "iopub.status.busy": "2024-08-07T14:36:53.323727Z",
     "iopub.status.idle": "2024-08-07T14:46:14.220800Z",
     "shell.execute_reply": "2024-08-07T14:46:14.219768Z"
    },
    "papermill": {
     "duration": 560.918868,
     "end_time": "2024-08-07T14:46:14.232163",
     "exception": false,
     "start_time": "2024-08-07T14:36:53.313295",
     "status": "completed"
    },
    "tags": []
   },
   "outputs": [
    {
     "data": {
      "text/html": [
       "<style>#sk-container-id-3 {color: black;background-color: white;}#sk-container-id-3 pre{padding: 0;}#sk-container-id-3 div.sk-toggleable {background-color: white;}#sk-container-id-3 label.sk-toggleable__label {cursor: pointer;display: block;width: 100%;margin-bottom: 0;padding: 0.3em;box-sizing: border-box;text-align: center;}#sk-container-id-3 label.sk-toggleable__label-arrow:before {content: \"▸\";float: left;margin-right: 0.25em;color: #696969;}#sk-container-id-3 label.sk-toggleable__label-arrow:hover:before {color: black;}#sk-container-id-3 div.sk-estimator:hover label.sk-toggleable__label-arrow:before {color: black;}#sk-container-id-3 div.sk-toggleable__content {max-height: 0;max-width: 0;overflow: hidden;text-align: left;background-color: #f0f8ff;}#sk-container-id-3 div.sk-toggleable__content pre {margin: 0.2em;color: black;border-radius: 0.25em;background-color: #f0f8ff;}#sk-container-id-3 input.sk-toggleable__control:checked~div.sk-toggleable__content {max-height: 200px;max-width: 100%;overflow: auto;}#sk-container-id-3 input.sk-toggleable__control:checked~label.sk-toggleable__label-arrow:before {content: \"▾\";}#sk-container-id-3 div.sk-estimator input.sk-toggleable__control:checked~label.sk-toggleable__label {background-color: #d4ebff;}#sk-container-id-3 div.sk-label input.sk-toggleable__control:checked~label.sk-toggleable__label {background-color: #d4ebff;}#sk-container-id-3 input.sk-hidden--visually {border: 0;clip: rect(1px 1px 1px 1px);clip: rect(1px, 1px, 1px, 1px);height: 1px;margin: -1px;overflow: hidden;padding: 0;position: absolute;width: 1px;}#sk-container-id-3 div.sk-estimator {font-family: monospace;background-color: #f0f8ff;border: 1px dotted black;border-radius: 0.25em;box-sizing: border-box;margin-bottom: 0.5em;}#sk-container-id-3 div.sk-estimator:hover {background-color: #d4ebff;}#sk-container-id-3 div.sk-parallel-item::after {content: \"\";width: 100%;border-bottom: 1px solid gray;flex-grow: 1;}#sk-container-id-3 div.sk-label:hover label.sk-toggleable__label {background-color: #d4ebff;}#sk-container-id-3 div.sk-serial::before {content: \"\";position: absolute;border-left: 1px solid gray;box-sizing: border-box;top: 0;bottom: 0;left: 50%;z-index: 0;}#sk-container-id-3 div.sk-serial {display: flex;flex-direction: column;align-items: center;background-color: white;padding-right: 0.2em;padding-left: 0.2em;position: relative;}#sk-container-id-3 div.sk-item {position: relative;z-index: 1;}#sk-container-id-3 div.sk-parallel {display: flex;align-items: stretch;justify-content: center;background-color: white;position: relative;}#sk-container-id-3 div.sk-item::before, #sk-container-id-3 div.sk-parallel-item::before {content: \"\";position: absolute;border-left: 1px solid gray;box-sizing: border-box;top: 0;bottom: 0;left: 50%;z-index: -1;}#sk-container-id-3 div.sk-parallel-item {display: flex;flex-direction: column;z-index: 1;position: relative;background-color: white;}#sk-container-id-3 div.sk-parallel-item:first-child::after {align-self: flex-end;width: 50%;}#sk-container-id-3 div.sk-parallel-item:last-child::after {align-self: flex-start;width: 50%;}#sk-container-id-3 div.sk-parallel-item:only-child::after {width: 0;}#sk-container-id-3 div.sk-dashed-wrapped {border: 1px dashed gray;margin: 0 0.4em 0.5em 0.4em;box-sizing: border-box;padding-bottom: 0.4em;background-color: white;}#sk-container-id-3 div.sk-label label {font-family: monospace;font-weight: bold;display: inline-block;line-height: 1.2em;}#sk-container-id-3 div.sk-label-container {text-align: center;}#sk-container-id-3 div.sk-container {/* jupyter's `normalize.less` sets `[hidden] { display: none; }` but bootstrap.min.css set `[hidden] { display: none !important; }` so we also need the `!important` here to be able to override the default hidden behavior on the sphinx rendered scikit-learn.org. See: https://github.com/scikit-learn/scikit-learn/issues/21755 */display: inline-block !important;position: relative;}#sk-container-id-3 div.sk-text-repr-fallback {display: none;}</style><div id=\"sk-container-id-3\" class=\"sk-top-container\"><div class=\"sk-text-repr-fallback\"><pre>RandomForestClassifier(random_state=42)</pre><b>In a Jupyter environment, please rerun this cell to show the HTML representation or trust the notebook. <br />On GitHub, the HTML representation is unable to render, please try loading this page with nbviewer.org.</b></div><div class=\"sk-container\" hidden><div class=\"sk-item\"><div class=\"sk-estimator sk-toggleable\"><input class=\"sk-toggleable__control sk-hidden--visually\" id=\"sk-estimator-id-3\" type=\"checkbox\" checked><label for=\"sk-estimator-id-3\" class=\"sk-toggleable__label sk-toggleable__label-arrow\">RandomForestClassifier</label><div class=\"sk-toggleable__content\"><pre>RandomForestClassifier(random_state=42)</pre></div></div></div></div></div>"
      ],
      "text/plain": [
       "RandomForestClassifier(random_state=42)"
      ]
     },
     "execution_count": 27,
     "metadata": {},
     "output_type": "execute_result"
    }
   ],
   "source": [
    "# Train the Random Forest model\n",
    "rf_model = RandomForestClassifier(n_estimators=100, random_state=42)\n",
    "rf_model.fit(X_train_tfidf, y_train_encoded)\n"
   ]
  },
  {
   "cell_type": "code",
   "execution_count": 28,
   "id": "b6604f35",
   "metadata": {
    "execution": {
     "iopub.execute_input": "2024-08-07T14:46:14.252646Z",
     "iopub.status.busy": "2024-08-07T14:46:14.252275Z",
     "iopub.status.idle": "2024-08-07T14:46:20.981518Z",
     "shell.execute_reply": "2024-08-07T14:46:20.980645Z"
    },
    "papermill": {
     "duration": 6.74267,
     "end_time": "2024-08-07T14:46:20.984059",
     "exception": false,
     "start_time": "2024-08-07T14:46:14.241389",
     "status": "completed"
    },
    "tags": []
   },
   "outputs": [],
   "source": [
    "# Evaluate the model on the test set\n",
    "y_test_pred = rf_model.predict(X_test_tfidf)\n",
    "y_test_pred_labels = label_encoder.inverse_transform(y_test_pred)\n"
   ]
  },
  {
   "cell_type": "code",
   "execution_count": 29,
   "id": "98e81267",
   "metadata": {
    "execution": {
     "iopub.execute_input": "2024-08-07T14:46:21.004413Z",
     "iopub.status.busy": "2024-08-07T14:46:21.004045Z",
     "iopub.status.idle": "2024-08-07T14:46:21.126907Z",
     "shell.execute_reply": "2024-08-07T14:46:21.125943Z"
    },
    "papermill": {
     "duration": 0.136582,
     "end_time": "2024-08-07T14:46:21.130117",
     "exception": false,
     "start_time": "2024-08-07T14:46:20.993535",
     "status": "completed"
    },
    "tags": []
   },
   "outputs": [
    {
     "name": "stdout",
     "output_type": "stream",
     "text": [
      "Test Accuracy: 0.4875276752767528\n",
      "              precision    recall  f1-score   support\n",
      "\n",
      "      action       0.69      0.01      0.01      1314\n",
      "       adult       0.63      0.08      0.14       590\n",
      "   adventure       0.84      0.10      0.17       775\n",
      "   animation       0.09      0.00      0.00       498\n",
      "   biography       0.00      0.00      0.00       264\n",
      "      comedy       0.55      0.26      0.35      7446\n",
      "       crime       1.00      0.00      0.01       505\n",
      " documentary       0.55      0.89      0.68     13096\n",
      "       drama       0.41      0.84      0.55     13612\n",
      "      family       0.90      0.02      0.04       783\n",
      "     fantasy       0.00      0.00      0.00       322\n",
      "   game-show       0.88      0.47      0.61       193\n",
      "     history       0.00      0.00      0.00       243\n",
      "      horror       0.75      0.11      0.20      2204\n",
      "       music       0.90      0.08      0.15       731\n",
      "     musical       0.75      0.02      0.04       276\n",
      "     mystery       1.00      0.00      0.01       318\n",
      "        news       0.00      0.00      0.00       181\n",
      "  reality-tv       0.71      0.01      0.01       883\n",
      "     romance       0.67      0.00      0.01       672\n",
      "      sci-fi       0.47      0.01      0.02       646\n",
      "       short       0.69      0.06      0.11      5072\n",
      "       sport       0.85      0.11      0.19       431\n",
      "   talk-show       0.92      0.03      0.06       391\n",
      "    thriller       0.50      0.00      0.01      1590\n",
      "         war       1.00      0.02      0.04       132\n",
      "     western       0.93      0.37      0.53      1032\n",
      "\n",
      "    accuracy                           0.49     54200\n",
      "   macro avg       0.62      0.13      0.15     54200\n",
      "weighted avg       0.57      0.49      0.39     54200\n",
      "\n"
     ]
    },
    {
     "name": "stderr",
     "output_type": "stream",
     "text": [
      "/opt/conda/lib/python3.10/site-packages/sklearn/metrics/_classification.py:1344: UndefinedMetricWarning: Precision and F-score are ill-defined and being set to 0.0 in labels with no predicted samples. Use `zero_division` parameter to control this behavior.\n",
      "  _warn_prf(average, modifier, msg_start, len(result))\n",
      "/opt/conda/lib/python3.10/site-packages/sklearn/metrics/_classification.py:1344: UndefinedMetricWarning: Precision and F-score are ill-defined and being set to 0.0 in labels with no predicted samples. Use `zero_division` parameter to control this behavior.\n",
      "  _warn_prf(average, modifier, msg_start, len(result))\n",
      "/opt/conda/lib/python3.10/site-packages/sklearn/metrics/_classification.py:1344: UndefinedMetricWarning: Precision and F-score are ill-defined and being set to 0.0 in labels with no predicted samples. Use `zero_division` parameter to control this behavior.\n",
      "  _warn_prf(average, modifier, msg_start, len(result))\n"
     ]
    }
   ],
   "source": [
    "# Calculate and print test accuracy\n",
    "print(f\"Test Accuracy: {accuracy_score(y_test_encoded, y_test_pred)}\")\n",
    "print(classification_report(y_test_encoded, y_test_pred, target_names=label_encoder.classes_))\n"
   ]
  }
 ],
 "metadata": {
  "kaggle": {
   "accelerator": "none",
   "dataSources": [
    {
     "datasetId": 1417162,
     "sourceId": 2347441,
     "sourceType": "datasetVersion"
    }
   ],
   "dockerImageVersionId": 30746,
   "isGpuEnabled": false,
   "isInternetEnabled": true,
   "language": "python",
   "sourceType": "notebook"
  },
  "kernelspec": {
   "display_name": "Python 3",
   "language": "python",
   "name": "python3"
  },
  "language_info": {
   "codemirror_mode": {
    "name": "ipython",
    "version": 3
   },
   "file_extension": ".py",
   "mimetype": "text/x-python",
   "name": "python",
   "nbconvert_exporter": "python",
   "pygments_lexer": "ipython3",
   "version": "3.10.13"
  },
  "papermill": {
   "default_parameters": {},
   "duration": 917.252762,
   "end_time": "2024-08-07T14:46:21.863071",
   "environment_variables": {},
   "exception": null,
   "input_path": "__notebook__.ipynb",
   "output_path": "__notebook__.ipynb",
   "parameters": {},
   "start_time": "2024-08-07T14:31:04.610309",
   "version": "2.5.0"
  }
 },
 "nbformat": 4,
 "nbformat_minor": 5
}
